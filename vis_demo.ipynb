{
 "cells": [
  {
   "cell_type": "code",
   "execution_count": 1,
   "id": "64510d3a-f8ac-44bc-a909-20517a936fae",
   "metadata": {},
   "outputs": [],
   "source": [
    "import torch.nn.functional as F\n",
    "from torch.utils.data import DataLoader\n",
    "import numpy as np\n",
    "from rot_learner.dataset_trans import TransDataset\n",
    "from rot_learner.util import retrieve_data\n",
    "from rot_learner import main_mis\n",
    "from rot_learner.dataset import RotDataset\n",
    "import copy\n",
    "from rot_learner.data_util import preprocess_config\n",
    "\n",
    "import warnings\n",
    "warnings.filterwarnings(\"ignore\")"
   ]
  },
  {
   "cell_type": "code",
   "execution_count": 2,
   "id": "58a098f9-87af-459f-9156-7506e2f4eb57",
   "metadata": {},
   "outputs": [],
   "source": [
    "config_path = './snapshots/cifar10_resnet18/cifar10_resnet18_dp_baseline_epoch_299.pt'\n",
    "PRED_ROTS = [0, 90, 180, 270]\n",
    "PRED_TASK_NUM = len(PRED_ROTS)\n",
    "device = 'cuda:0'\n",
    "task_name = 'Rotation'"
   ]
  },
  {
   "cell_type": "code",
   "execution_count": 3,
   "id": "248b98cf-99ec-4f7c-b69a-92ce1a7a60a5",
   "metadata": {},
   "outputs": [
    {
     "name": "stdout",
     "output_type": "stream",
     "text": [
      "using model resnet18_dp\n",
      "model weight loaded!\n",
      "Files already downloaded and verified\n",
      "Files already downloaded and verified\n"
     ]
    }
   ],
   "source": [
    "model, features_extractor, dloader,\\\n",
    "trainset_data, trainset_targets,\\\n",
    "valset_data, valset_targets,\\\n",
    "dataset, class_num = preprocess_config(config_path, None, device)"
   ]
  },
  {
   "cell_type": "code",
   "execution_count": 4,
   "id": "a14f7ab8-5011-4268-87b3-18cf1c7ea94c",
   "metadata": {},
   "outputs": [],
   "source": [
    "train_ds = RotDataset(trainset_data, PRED_ROTS, trainset_targets, dataset=dataset, train_mode=True)\n",
    "val_ds = RotDataset(valset_data, PRED_ROTS, valset_targets, dataset=dataset, train_mode=False)\n",
    "test_ds = RotDataset(dloader.all_test_data, PRED_ROTS, dloader.all_test_targets, dataset=dataset, train_mode=False)\n",
    "\n",
    "trainloader = DataLoader(train_ds, batch_size=300, shuffle=True)\n",
    "valloader = DataLoader(val_ds, batch_size=300, shuffle=False)\n",
    "testloader = DataLoader(test_ds, batch_size=300, shuffle=False, pin_memory=False, num_workers=3)\n"
   ]
  },
  {
   "cell_type": "code",
   "execution_count": null,
   "id": "c5cbccf3-329e-409d-bf13-c098d1148419",
   "metadata": {},
   "outputs": [
    {
     "name": "stderr",
     "output_type": "stream",
     "text": [
      "Epoch 1/3: 100%|██████████| 134/134 [00:49<00:00,  2.72it/s, aug_acc=48.97%]\n",
      "Epoch 2/3: 100%|██████████| 134/134 [00:48<00:00,  2.76it/s, aug_acc=52.92%]\n",
      "Epoch 3/3:   7%|▋         | 9/134 [00:02<00:32,  3.87it/s, aug_acc=53.29%]"
     ]
    }
   ],
   "source": [
    "rot_net = main_mis.train(features_extractor, PRED_TASK_NUM, 512, 3, trainloader, device, dataset)\n",
    "cls_res, rot_res = main_mis.test(rot_net, model, testloader, class_num, PRED_TASK_NUM, device)"
   ]
  },
  {
   "cell_type": "code",
   "execution_count": null,
   "id": "6a994527-0695-43e2-a322-7ab7f144239b",
   "metadata": {},
   "outputs": [],
   "source": [
    "pred_scores, pred_corrects, gt_labels, pred_labels, pred_scores_all, pred_scores_for_gts, pred_features, pred_logits, pred_loss_all = cls_res\n",
    "rot_scores, rot_accs, rot_scores_full, rot_scores_all, rot_features, rot_logits, all_rot_corrects, rot_loss_all = rot_res"
   ]
  },
  {
   "cell_type": "code",
   "execution_count": null,
   "id": "f341afb7-17a7-4729-800b-70fa6775ef6d",
   "metadata": {},
   "outputs": [],
   "source": [
    "import rot_learner\n",
    "from importlib import reload\n",
    "reload(rot_learner.util)\n",
    "from rot_learner.util import show_ssl_cls, show_dist\n",
    "\n",
    "\n",
    "show_ssl_cls(np.array(pred_scores), pred_scores_for_gts, np.array(pred_corrects), np.array(rot_scores_full)[:, 0], rot_accs, gt_labels, 0, None, f'Rotation', \n",
    "            config={'title': f'{dataset}\\n{task_name}','xlabel':'Probing Confidence', 'alpha':1}\n",
    "        )"
   ]
  },
  {
   "cell_type": "code",
   "execution_count": null,
   "id": "05276c70-0734-411e-9b3e-20ffb321ccd1",
   "metadata": {},
   "outputs": [],
   "source": [
    "draw_config = {'kde': False, 'norm_hist': True, 'bins':30}\n",
    "\n",
    "show_dist(pred_scores, pred_corrects, None, 'Max Softmax Scores', draw_config, {'title': f'{dataset}', 'xlabel': 'Max Softmax Scores'})"
   ]
  },
  {
   "cell_type": "code",
   "execution_count": null,
   "id": "076c2224-5e3f-4536-b937-3098322b8c75",
   "metadata": {},
   "outputs": [],
   "source": [
    "show_dist(np.array(rot_scores_full)[:, 0], pred_corrects, None, 'Probing Confidence', draw_config, {'title': f'{dataset}', 'xlabel': 'Probing Confidence'})"
   ]
  },
  {
   "cell_type": "code",
   "execution_count": null,
   "id": "189fd73f-796c-41c5-9ff7-40fafe8d4de9",
   "metadata": {},
   "outputs": [],
   "source": []
  }
 ],
 "metadata": {
  "kernelspec": {
   "display_name": "conf2",
   "language": "python",
   "name": "conf2"
  },
  "language_info": {
   "codemirror_mode": {
    "name": "ipython",
    "version": 3
   },
   "file_extension": ".py",
   "mimetype": "text/x-python",
   "name": "python",
   "nbconvert_exporter": "python",
   "pygments_lexer": "ipython3",
   "version": "3.6.13"
  }
 },
 "nbformat": 4,
 "nbformat_minor": 5
}
